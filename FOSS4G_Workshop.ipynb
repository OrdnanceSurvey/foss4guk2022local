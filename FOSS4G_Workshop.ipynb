{
 "cells": [
  {
   "cell_type": "markdown",
   "metadata": {},
   "source": [
    "### Requirements\n",
    "pandas              1.4.3  <br>\n",
    "requests            2.28.1 <br>\n",
    "psycopg2            2.9.3 <br>\n"
   ]
  },
  {
   "cell_type": "markdown",
   "metadata": {},
   "source": [
    "# OS Downloads API - Open Data\n"
   ]
  },
  {
   "cell_type": "code",
   "execution_count": null,
   "metadata": {},
   "outputs": [],
   "source": [
    "import os\n",
    "import pandas as pd\n",
    "import requests as r\n",
    "import json\n",
    "import hashlib\n",
    "import zipfile\n",
    "import psycopg2"
   ]
  },
  {
   "cell_type": "code",
   "execution_count": null,
   "metadata": {},
   "outputs": [],
   "source": [
    "#Get the result of the OS Downloads API call \n",
    "open_prod = r.get('https://api.os.uk/downloads/v1/products').json()"
   ]
  },
  {
   "cell_type": "code",
   "execution_count": null,
   "metadata": {},
   "outputs": [],
   "source": [
    "#Load view into DataFrame \n",
    "df = pd.DataFrame(open_prod)\n",
    "df"
   ]
  },
  {
   "cell_type": "code",
   "execution_count": null,
   "metadata": {},
   "outputs": [],
   "source": [
    "#define download location\n",
    "download_loc = r''"
   ]
  },
  {
   "cell_type": "code",
   "execution_count": null,
   "metadata": {},
   "outputs": [],
   "source": [
    "#create download function\n",
    "def download_file(url,file):\n",
    "    with r.get(url, stream=True) as d:\n",
    "        d.raise_for_status()\n",
    "        with open(download_loc+'/'+file, 'wb') as f:\n",
    "            for chunk in d.iter_content(chunk_size=8192): \n",
    "                f.write(chunk)\n",
    "    return download_loc"
   ]
  },
  {
   "cell_type": "markdown",
   "metadata": {},
   "source": [
    "## What is MD5?\n",
    "MD5 (message-digest algorithm) is a cryptographic protocol used for authenticating messages as well as content verification and digital signatures. MD5 is based on a hash function that verifies that a file you sent matches the file received by the person you sent it to. "
   ]
  },
  {
   "cell_type": "code",
   "execution_count": null,
   "metadata": {},
   "outputs": [],
   "source": [
    "#create md5 function\n",
    "def md5(fname):\n",
    "    hash_md5 = hashlib.md5()\n",
    "    with open(fname, \"rb\") as f:\n",
    "        for chunk in iter(lambda: f.read(4096), b\"\"):\n",
    "            hash_md5.update(chunk)\n",
    "    return hash_md5.hexdigest()"
   ]
  },
  {
   "cell_type": "code",
   "execution_count": null,
   "metadata": {},
   "outputs": [],
   "source": [
    "#define our product of interest\n",
    "open_product = 'OpenRivers'"
   ]
  },
  {
   "cell_type": "code",
   "execution_count": null,
   "metadata": {},
   "outputs": [],
   "source": [
    "df = df.loc[df['id'] == open_product] #locate the correct product\n",
    "product = r.get(df.iloc[0]['url']).json() #get URL request for product\n",
    "download = product['downloadsUrl'] #find the download URL \n",
    "filetypes = r.get(download).json() #get filetypes with download URLs\n",
    "pd.DataFrame(filetypes) "
   ]
  },
  {
   "cell_type": "code",
   "execution_count": null,
   "metadata": {},
   "outputs": [],
   "source": [
    "#define desired filetype\n",
    "download_filetype = 'GeoPackage'"
   ]
  },
  {
   "cell_type": "code",
   "execution_count": null,
   "metadata": {},
   "outputs": [],
   "source": [
    "#find the right filetype\n",
    "for x in range(len(filetypes)):\n",
    "    if filetypes[x]['format'] == download_filetype:\n",
    "        #download the file\n",
    "        download_file(filetypes[x]['url'],filetypes[x]['fileName'])\n",
    "        #check the file md5's match\n",
    "        if md5(download_loc +'/'+ filetypes[x]['fileName']) == filetypes[x]['md5']:\n",
    "            print('Successfully Downloaded ')\n",
    "            file_path = download_loc +'\\\\'+ filetypes[x]['fileName']\n",
    "        else: \n",
    "            print('MD5 does not match')\n"
   ]
  },
  {
   "cell_type": "code",
   "execution_count": null,
   "metadata": {},
   "outputs": [],
   "source": [
    "#unzip the file\n",
    "with zipfile.ZipFile(file_path, 'r') as zip_ref:\n",
    "    zip_ref.extractall(download_loc+'\\\\'+open_product)\n",
    "path = os.listdir(download_loc+'\\\\'+open_product +'\\\\' + 'data')\n",
    "file = download_loc+'\\\\'+open_product +'\\\\' + 'data' + '\\\\' + path[0]\n"
   ]
  },
  {
   "cell_type": "code",
   "execution_count": null,
   "metadata": {},
   "outputs": [],
   "source": [
    "#create schema\n",
    "#if using Linux use getpass.getuser() as the variable in schema creation\n",
    "\n",
    "#connection details\n",
    "dbname = 'foss4g'\n",
    "host = '18.135.248.161'\n",
    "port = '5432'\n",
    "user = 'postgres'\n",
    "password = 'V2ql011Bw5A6'\n",
    "\n",
    "conn_local = psycopg2.connect(database=\"postgres\", user=f\"postgres\", password=f\"password\",host=\"localhost\")\n",
    "#conn_cloud = psycopg2.connect(database=dbname, user=user, password=password,host=host)\n",
    "cursor = conn_local.cursor()\n",
    "sql = f'''CREATE SCHEMA IF NOT EXISTS {os.getlogin( )}; '''\n",
    "cursor.execute(sql)\n",
    "conn_local.commit()\n",
    "conn_local.close()"
   ]
  },
  {
   "cell_type": "code",
   "execution_count": null,
   "metadata": {},
   "outputs": [],
   "source": [
    "#create schema if you have postgresql installed  \n",
    "#if using Linux use getpass.getuser() as the variable in schema creation\n",
    "pg_connection = '-d postgres -U postgres -p password -h localhost -p 5432'\n",
    "create_schema = f'''psql {pg_connection} -c \"CREATE SCHEMA IF NOT EXISTS {os.getlogin( )}\"'''\n",
    "print(create_schema)\n",
    "os.system(create_schema)"
   ]
  },
  {
   "cell_type": "code",
   "execution_count": null,
   "metadata": {},
   "outputs": [],
   "source": [
    "#load data if you have ogr2ogr\n",
    "#if using Linux use getpass.getuser() as the variable in active_schema \n",
    "pg_connection_ogr = f'PG:\"dbname=postgres user=postgres password=password active_schema={os.getlogin( )} host=localhost port=5432\"'\n",
    "#pg_connection_ogr = f'PG:\"dbname={dbname} user={user} password={password} active_schema={os.getlogin( )} host={host} port={port}\"'\n",
    "command = f'ogr2ogr -f PostgreSQL {pg_connection_ogr} {file}'\n",
    "print(command)\n",
    "os.system(command)\n"
   ]
  }
 ],
 "metadata": {
  "kernelspec": {
   "display_name": "Python 3",
   "language": "python",
   "name": "python3"
  },
  "language_info": {
   "codemirror_mode": {
    "name": "ipython",
    "version": 3
   },
   "file_extension": ".py",
   "mimetype": "text/x-python",
   "name": "python",
   "nbconvert_exporter": "python",
   "pygments_lexer": "ipython3",
   "version": "3.6.9"
  },
  "vscode": {
   "interpreter": {
    "hash": "1c1f17b87a6f044490766270aeb17435b4920d3e331ac67a56ea9bedb25b5447"
   }
  }
 },
 "nbformat": 4,
 "nbformat_minor": 2
}
